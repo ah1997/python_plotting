{
 "cells": [
  {
   "cell_type": "code",
   "execution_count": 1,
   "metadata": {},
   "outputs": [],
   "source": [
    "import numpy as np \n",
    "import matplotlib.pyplot as plt \n",
    "import glob\n",
    "from scipy.optimize import curve_fit"
   ]
  },
  {
   "cell_type": "code",
   "execution_count": 27,
   "metadata": {},
   "outputs": [],
   "source": [
    "dat = glob.glob(\"Data/L100/t10000/\"+\"t_*.dat\")"
   ]
  },
  {
   "cell_type": "code",
   "execution_count": 28,
   "metadata": {},
   "outputs": [],
   "source": [
    "n1 = len(dat)\n",
    "r1 = np.loadtxt(dat[0])\n",
    "xp = np.zeros_like(r1)\n",
    "for i in range(n1):\n",
    "    r1 = np.loadtxt(dat[i])\n",
    "    xp = xp + r1"
   ]
  },
  {
   "cell_type": "code",
   "execution_count": 29,
   "metadata": {},
   "outputs": [],
   "source": [
    "t10000 = xp/n1"
   ]
  },
  {
   "cell_type": "code",
   "execution_count": 22,
   "metadata": {},
   "outputs": [
    {
     "name": "stdout",
     "output_type": "stream",
     "text": [
      "399.99999999999994\n"
     ]
    }
   ],
   "source": [
    "print(t1000[:,1].sum())"
   ]
  },
  {
   "cell_type": "code",
   "execution_count": 37,
   "metadata": {},
   "outputs": [],
   "source": [
    "np.savetxt('tg1000.txt',(t1000))\n",
    "np.savetxt('tg10000.txt',(t10000))"
   ]
  },
  {
   "cell_type": "code",
   "execution_count": 3,
   "metadata": {},
   "outputs": [],
   "source": [
    "t0 = np.loadtxt('tg0.txt')\n",
    "t25 = np.loadtxt('tg25.txt')\n",
    "t50 = np.loadtxt('tg50.txt')\n",
    "t100 = np.loadtxt('tg100.txt')\n",
    "t1000 = np.loadtxt('tg100.txt')\n",
    "t10000 = np.loadtxt('tg10000.txt')"
   ]
  },
  {
   "cell_type": "code",
   "execution_count": 17,
   "metadata": {},
   "outputs": [
    {
     "name": "stdout",
     "output_type": "stream",
     "text": [
      "142.1287819685689\n",
      "400.0\n"
     ]
    }
   ],
   "source": [
    "print((t0[:,1]*t0[:,1]).sum()/100)\n",
    "print(t0[:,1].sum())"
   ]
  },
  {
   "cell_type": "code",
   "execution_count": 6,
   "metadata": {},
   "outputs": [],
   "source": [
    "def func(x, a, b):\n",
    "    return a * np.exp(-(x-50)*(x-50)/(2*b))"
   ]
  },
  {
   "cell_type": "code",
   "execution_count": 10,
   "metadata": {},
   "outputs": [],
   "source": [
    "popt, pcov = curve_fit(func, t25[:,0],t25[:,1])"
   ]
  },
  {
   "cell_type": "code",
   "execution_count": 11,
   "metadata": {},
   "outputs": [
    {
     "name": "stdout",
     "output_type": "stream",
     "text": [
      "[26.84789339 35.30069464]\n",
      "[[ 0.03966301 -0.06953386]\n",
      " [-0.06953386  0.36570285]]\n"
     ]
    }
   ],
   "source": [
    "print(popt)\n",
    "print(pcov)"
   ]
  },
  {
   "cell_type": "code",
   "execution_count": 4,
   "metadata": {},
   "outputs": [
    {
     "data": {
      "text/plain": [
       "[<matplotlib.lines.Line2D at 0x19ba08dcee0>]"
      ]
     },
     "execution_count": 4,
     "metadata": {},
     "output_type": "execute_result"
    },
    {
     "data": {
      "image/png": "[encoded data removed]",
      "text/plain": [
       "<Figure size 432x288 with 1 Axes>"
      ]
     },
     "metadata": {
      "needs_background": "light"
     },
     "output_type": "display_data"
    }
   ],
   "source": [
    "plt.plot(t1000[:,0],t1000[:,1],'g--')\n",
    "plt.plot(t10000[:,0],t10000[:,1],'k--')\n",
    "plt.plot(t0[:,0],t0[:,1])\n",
    "plt.plot(t25[:,0],t25[:,1])\n",
    "plt.plot(t50[:,0],t50[:,1])\n",
    "plt.plot(t100[:,0],t100[:,1])"
   ]
  }
 ],
 "metadata": {
  "kernelspec": {
   "display_name": "Python 3",
   "language": "python",
   "name": "python3"
  },
  "language_info": {
   "codemirror_mode": {
    "name": "ipython",
    "version": 3
   },
   "file_extension": ".py",
   "mimetype": "text/x-python",
   "name": "python",
   "nbconvert_exporter": "python",
   "pygments_lexer": "ipython3",
   "version": "3.8.3"
  }
 },
 "nbformat": 4,
 "nbformat_minor": 4
}
